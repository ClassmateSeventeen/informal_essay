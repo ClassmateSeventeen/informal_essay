{
 "cells": [
  {
   "cell_type": "code",
   "execution_count": 18,
   "metadata": {},
   "outputs": [],
   "source": [
    "import json\n",
    "from typing import Optional, Union\n",
    "def read_corpus(filename) -> Union[list, list]:\n",
    "    \"\"\"\n",
    "    读取给定的语料库，并把问题列表和答案列表分别写入到qlist，alist中\n",
    "    qlist = ['问题1'，'问题2'，...,'问题n']\n",
    "    alist = ['答案1'，'答案2'，...,'答案n']\n",
    "    务必要让每一个问题都对应一个答案（下标位置一致）\n",
    "    \"\"\"\n",
    "\n",
    "    data = json.load(open(filename))\n",
    "\n",
    "    qlist = []\n",
    "    alist = []\n",
    "\n",
    "    data = data['data'] #list\n",
    "\n",
    "    for da in data:\n",
    "        paragraphs = da['paragraphs'] #list\n",
    "        for para in paragraphs:\n",
    "            qas = para['qas'] #list\n",
    "            for x in qas:\n",
    "                if x['answers'] != []:\n",
    "                    qlist.append(x['question'])\n",
    "                    alist.append(x['answers'][0]['text'])\n",
    "    assert len(qlist) == len(alist), '问题列表和答案列表长度不一致'\n",
    "    return qlist, alist"
   ]
  },
  {
   "cell_type": "code",
   "execution_count": 19,
   "metadata": {},
   "outputs": [],
   "source": [
    "qlist, alist = read_corpus('/Users/v_wangbo35/Desktop/cc/train-v2.0.json')\n",
    "# qlist[555], alist[555]"
   ]
  },
  {
   "cell_type": "code",
   "execution_count": 20,
   "metadata": {},
   "outputs": [],
   "source": [
    "#TODO: 统计一下在qlist总共出现了多少单词，以及出现了多少个不同的单词\n",
    "#   这里虚高做简单的分词，对于英文根据空格来粉刺即可，其他过滤暂不考虑（只需分词）\n",
    "import string\n",
    "import re\n",
    "\n",
    "#去标点符号，分册，得到词-词频的字典\n",
    "def segmentWords(lst) -> Union[int, dict]:\n",
    "    \"\"\"\n",
    "    :param lst: 待分词的文本列表,list传入\n",
    "    :return: 返回词频总数，词-词频的字典\n",
    "    \"\"\"\n",
    "    total = 0\n",
    "    word_dict = {}\n",
    "    for line in lst:\n",
    "        pattern = re.compile('[{}]'.format(re.escape(string.punctuation)))\n",
    "        sentence = pattern.sub('', line)\n",
    "        words = sentence.split()\n",
    "        for word in words:\n",
    "            word_dict[word] = word_dict.get(word, 0) + 1\n",
    "            total += 1\n",
    "    return total, word_dict"
   ]
  },
  {
   "cell_type": "code",
   "execution_count": 21,
   "metadata": {},
   "outputs": [
    {
     "name": "stdout",
     "output_type": "stream",
     "text": [
      "总共873167个单词\n",
      "总共45246个不同的单词\n"
     ]
    }
   ],
   "source": [
    "qlist, alist = read_corpus('/Users/v_wangbo35/Desktop/cc/train-v2.0.json')\n",
    "# qlist[555], alist[555]\n",
    "word_total, q_dict = segmentWords(qlist)\n",
    "total_diff_words = len(q_dict.keys())\n",
    "print(\"总共{}个单词\".format(word_total))\n",
    "print(\"总共{}个不同的单词\".format(total_diff_words))"
   ]
  },
  {
   "cell_type": "code",
   "execution_count": 22,
   "metadata": {},
   "outputs": [
    {
     "name": "stdout",
     "output_type": "stream",
     "text": [
      "[61008, 37007, 33994, 21807, 18451, 17067, 16201, 15635, 13241, 10778, 8025, 8024, 7229, 7209, 5498, 5457, 5368, 4441, 4430, 4331, 4296, 4189, 4137, 4109, 3711, 3665, 3660, 3369, 3241, 3145, 3016, 2972, 2941, 2709, 2636, 2284, 2276, 2165, 2119, 2103, 1924, 1703, 1644, 1561, 1485, 1476, 1420, 1337, 1310, 1301, 1294, 1291, 1283, 1264, 1250, 1248, 1227, 1224, 1191, 1183, 1166, 1158, 1095, 1081, 1062, 1042, 1015, 1008, 982, 974, 930, 921, 919, 913, 911, 910, 895, 883, 876, 872, 855, 847, 840, 824, 819, 810, 808, 805, 787, 778, 775, 760, 744, 722, 717, 713, 702, 690, 683, 660]\n",
      "['the', 'What', 'of', 'in', 'to', 'was', 'is', 'did', 'what', 'a', 'How', 'Who', 'and', 'for', 'many', 'are', 'When', 'that', 'were', 'does', 'In', 'on', 'with', 'Which', 'from', 'by', 'as', 'year', 'Where', 'The', 'be', 'have', 'do', 'first', 'name', 'which', 'an', 'at', 'type', 'used', 'has', 'most', 'can', 'people', 'their', 'other', 'how', 'his', 'it', 'called', 'two', 'when', 'its', 'during', 'one', 'much', 'after', 'use', 'Why', 'city', 'or', 'not', 'New', 'US', 'who', 'had', 'located', 'time', 'been', 'about', 'country', 'between', 'known', 'group', 'into', 'part', 'century', 'term', 'more', 'population', 'system', 'made', 'some', 'would', 'language', 'new', 'American', 'kind', 'this', 'percentage', 'state', 'long', 'than', 'area', 'there', 'become', 'government', 'up', 'begin', 'take']\n"
     ]
    }
   ],
   "source": [
    "# TODO: 统计一下qlist中每个单词出现的频率，并把这些频率排一下序，然后画成plot. 比如总共出现了总共7个不同单词，而且每个单词出现的频率为 4, 5,10,2, 1, 1,1\n",
    "#       把频率排序之后就可以得到(从大到小) 10, 5, 4, 2, 1, 1, 1. 然后把这7个数plot即可（从大到小）\n",
    "#       需要使用matplotlib里的plot函数。y轴是词频\n",
    "import matplotlib.pyplot as plt\n",
    "\n",
    "word_sorted = sorted(q_dict.items(), key=lambda k:k[1], reverse = True) #按词频排序\n",
    "word_freq = []\n",
    "word_list = []\n",
    "for line in word_sorted:\n",
    "    word_list.append(line[0])\n",
    "    word_freq.append(line[1])\n",
    "\n",
    "print(word_freq[:100])\n",
    "print(word_list[:100])\n",
    "# x = range(total_diff_words)\n",
    "# plt.plot(x, word_freq, 'ro')\n",
    "# plt.ylabel(\"word frequency\")\n",
    "#plt.show()\n",
    "\n",
    "# temp = [n for n in word_freq if n < 50]\n",
    "# plt.plot(range(len(temp)), temp, color='r', linestyle='-', linewidth=2)\n",
    "# plt.ylabel(\"word frequency\")\n",
    "# plt.show()"
   ]
  },
  {
   "cell_type": "code",
   "execution_count": 23,
   "metadata": {},
   "outputs": [
    {
     "name": "stdout",
     "output_type": "stream",
     "text": [
      "[('the', 13276), ('of', 8902), ('and', 8187), ('to', 3460), ('a', 3321), ('in', 2873), ('The', 1796), ('or', 1289), ('for', 1043), ('million', 869)]\n",
      "top 10 word of qlist are:  ['the', 'What', 'of', 'in', 'to', 'was', 'is', 'did', 'what', 'a']\n",
      "top 10 word of alist are:  ['the', 'of', 'and', 'to', 'a', 'in', 'The', 'or', 'for', 'million']\n"
     ]
    }
   ],
   "source": [
    "# TODO: 在qlist和alist里出现次数最多的TOP 10单词分别是什么？\n",
    "a_total, a_dic = segmentWords(alist)\n",
    "word_sorted = sorted(a_dic.items(), key=lambda k:k[1], reverse = True) #按词频排序\n",
    "print(word_sorted[:10])\n",
    "word_freq2 = []\n",
    "word_list2 = []\n",
    "for line in word_sorted:\n",
    "    word_list2.append(line[0])\n",
    "    word_freq2.append(line[1])\n",
    "print(\"top 10 word of qlist are: \", word_list[:10])\n",
    "print(\"top 10 word of alist are: \", word_list2[:10])"
   ]
  },
  {
   "cell_type": "code",
   "execution_count": 24,
   "metadata": {},
   "outputs": [],
   "source": [
    "# TODO: 对于qlist, alist做文本预处理操作。 可以考虑以下几种操作：\n",
    "#       1. 停用词过滤 （去网上搜一下 \"english stop words list\"，会出现很多包含停用词库的网页）   \n",
    "#       2. 转换成lower_case： 这是一个基本的操作   \n",
    "#       3. 去掉一些无用的符号： 比如连续的感叹号！！！， 或者一些奇怪的单词。\n",
    "#       4. 去掉出现频率很低的词：比如出现次数少于10,20....\n",
    "#       5. 对于数字的处理： 分词完只有有些单词可能就是数字比如44，415，把所有这些数字都看成是一个单词，这个新的单词我们可以定义为 \"#number\"\n",
    "#       6. stemming（利用porter stemming): 因为是英文，所以stemming也是可以做的工作\n",
    "#       7. 其他（如果有的话）\n",
    "#       请注意，不一定要按照上面的顺序来处理，具体处理的顺序思考一下，然后选择一个合理的顺序\n",
    "\n",
    "import nltk\n",
    "from typing import Union\n",
    "from nltk.stem.porter import PorterStemmer\n",
    "from nltk.corpus import stopwords\n",
    "import matplotlib.pyplot as plt\n",
    "\n",
    "stemmer = PorterStemmer()\n",
    "stopwords = set(stopwords.words('english'))\n",
    "\n",
    "# 预处理：去标点符号，去停用词，stemming,将数字转换为'#number'表示\n",
    "def preprocessing(lst) -> Union[dict, list]:\n",
    "    \"\"\"\n",
    "    :param lst: 待预处理文本列表，list传入\n",
    "    :return: 返回预处理后的文本字典，列表\n",
    "    \"\"\"\n",
    "    new_lst = []\n",
    "    word_dic = {}\n",
    "    for line in lst:\n",
    "        pattern = re.compile('[{}]'.format(re.escape(string.punctuation)))\n",
    "        sentence = pattern.sub('', line)\n",
    "        sentence = sentence.lower()\n",
    "        words = sentence.split()\n",
    "        temp = []\n",
    "        for word in words:\n",
    "            if word not in stopwords:\n",
    "                word = \"#number\" if word.isdigit() else word\n",
    "                w = stemmer.stem(word)\n",
    "                word_dic[w] = word_dic.get(w, 0) + 1\n",
    "                temp.append(w)\n",
    "        new_lst.append(temp)\n",
    "    return word_dic, new_lst\n",
    "\n",
    "#画出100分为类的词频统计图\n",
    "def drawgraph(dic, name) -> None:\n",
    "    \"\"\"\n",
    "    :param dic: 词频字典\n",
    "    :param name: 文件名\n",
    "    :return: 画出的统计图\n",
    "    \"\"\"\n",
    "    freq = list(dic.values())\n",
    "    freq.sort(reverse=True)\n",
    "    temp = [n for n in freq if n <= 50]\n",
    "    plt.plot(range(len(temp)), temp, 'r-')\n",
    "    plt.ylabel(name)\n",
    "    plt.show()\n",
    "\n",
    "#过滤掉词频低于2，大于10000的词\n",
    "def filterword(dic, lst, bottom, top) -> list:\n",
    "    temp = []\n",
    "    for k, v in dic.items():\n",
    "        if v >= bottom and v <= top:\n",
    "            temp.append(k)\n",
    "    new_lst = []\n",
    "    for line in lst:\n",
    "        words = [w for w in line if w in temp]\n",
    "        new_lst.append(' '.join(words))\n",
    "\n",
    "    return new_lst"
   ]
  },
  {
   "cell_type": "code",
   "execution_count": 25,
   "metadata": {},
   "outputs": [
    {
     "data": {
      "image/png": "[encoded data removed]",
      "text/plain": [
       "<Figure size 640x480 with 1 Axes>"
      ]
     },
     "metadata": {},
     "output_type": "display_data"
    },
    {
     "data": {
      "image/png": "[encoded data removed]",
      "text/plain": [
       "<Figure size 640x480 with 1 Axes>"
      ]
     },
     "metadata": {},
     "output_type": "display_data"
    },
    {
     "name": "stdout",
     "output_type": "stream",
     "text": [
      "the length of new qlist is  86821\n",
      "the length of new alist is  86821\n"
     ]
    }
   ],
   "source": [
    "q_dict,q_list = preprocessing(qlist)\n",
    "drawgraph(q_dict,\"word frequency of qlist\")\n",
    " \n",
    "a_dict,a_list = preprocessing(alist)\n",
    "drawgraph(a_dict, \"word frequency of alist\")\n",
    " \n",
    "new_qlist = filterword(q_dict, q_list, 2, 10000)\n",
    "new_alist = filterword(a_dict, a_list, 2, 10000)\n",
    "print(\"the length of new qlist is \",len(new_qlist))\n",
    "print(\"the length of new alist is \",len(new_alist))"
   ]
  },
  {
   "cell_type": "code",
   "execution_count": 26,
   "metadata": {},
   "outputs": [
    {
     "name": "stdout",
     "output_type": "stream",
     "text": [
      "0.00034930747261915386\n"
     ]
    }
   ],
   "source": [
    "#文本表示\n",
    "# TODO: 把qlist中的每一个问题字符串转换成tf-idf向量, 转换之后的结果存储在X矩阵里。 X的大小是： N* D的矩阵。 这里N是问题的个数（样本个数），\n",
    "#       D是字典库的大小。 \n",
    "\n",
    "from sklearn.feature_extraction.text import TfidfVectorizer\n",
    "\n",
    "vectorizer = TfidfVectorizer()  # 初始化一个tf-idf向量转换器vectorizer\n",
    "\n",
    "X = vectorizer.fit_transform(new_qlist)  # 转换, 得到X矩阵\n",
    "\n",
    "#TODO: 矩阵X有什么特点？ 计算一下它的稀疏度\n",
    "x_mat = X.toarray()\n",
    "n = len(x_mat)\n",
    "m = len(x_mat[0])\n",
    "t = 0\n",
    "for i in range(n):\n",
    "    for j in range(m):\n",
    "        if x_mat[i][j] != 0:\n",
    "            t += 1\n",
    "sparsity = t / (n * m)\n",
    "print(sparsity)"
   ]
  },
  {
   "cell_type": "code",
   "execution_count": 27,
   "metadata": {},
   "outputs": [],
   "source": [
    "#对于用户的输入问题，找到相似度最高的TOP5的问题，并把5个潜在的答案返回\n",
    "from sklearn.metrics.pairwise import cosine_similarity\n",
    " \n",
    "def top5results(input_q):\n",
    "    \"\"\"\n",
    "    给定用户输入的问题 input_q, 返回最有可能的TOP 5问题。这里面需要做到以下几点：\n",
    "    1. 对于用户的输入 input_q 首先做一系列的预处理，然后再转换成tf-idf向量（利用上面的vectorizer)\n",
    "    2. 计算跟每个库里的问题之间的相似度\n",
    "    3. 找出相似度最高的top5问题的答案\n",
    "    \"\"\"\n",
    "    # 问题预处理\n",
    "    pattern = re.compile('[{}]'.format(re.escape(string.punctuation)))\n",
    "    sentence = pattern.sub(\"\", input_q)\n",
    "    sentence = sentence.lower()\n",
    "    words = sentence.split()\n",
    "    result = []\n",
    "    for word in words:\n",
    "        if word not in stopwords:\n",
    "            word = \"#number\" if word.isdigit() else word\n",
    "            w = stemmer.stem(word)\n",
    "            result.append(w)\n",
    "    \n",
    "    #计算相似度\n",
    "    input_seg = ' '.join(result)\n",
    "    input_vec = vectorizer.transform([input_seg])\n",
    "    res = cosine_similarity(input_vec, X)[0]\n",
    "    \n",
    "    #得到top 5的索引\n",
    "    score_idx = dict((i,v) for i,v in enumerate(res))\n",
    "    score_sorted = sorted(score_idx.items(), key=lambda k:k[1],reverse=True)\n",
    "    idx = [idx[0] for idx in score_sorted]\n",
    "    top_idxs = idx[:5]  # top_idxs存放相似度最高的（存在qlist里的）问题的下表 \n",
    "    print(top_idxs)\n",
    "    \n",
    "    result = [alist[i] for i in top_idxs]\n",
    "    return result  # 返回相似度最高的问题对应的答案，作为TOP5答案  "
   ]
  },
  {
   "cell_type": "code",
   "execution_count": 28,
   "metadata": {},
   "outputs": [
    {
     "name": "stdout",
     "output_type": "stream",
     "text": [
      "[0, 39267, 60835, 23136, 62423]\n",
      "['in the late 1990s', 'Particularly since the 1950s, pro wrestling events have frequently been responsible for sellout crowds at large arenas', 'mandolin-based guitar programs', 'early DJs creating music in their own homes', 'Iwasaki Yatarō']\n",
      "[7786, 27470, 41967, 7844, 8154]\n",
      "['Greek', '1570s', 'living together', 'the evolution of all eukaryotes', 'Persian and Sanskrit']\n"
     ]
    },
    {
     "data": {
      "text/plain": [
       "\"\\n结果：\\n[0, 39267, 60835, 23136, 62423]\\n['in the late 1990s', 'Particularly since the 1950s, pro wrestling events have frequently been responsible for sellout crowds at large arenas', 'mandolin-based guitar programs', 'early DJs creating music in their own homes', 'Iwasaki Yatarō']\\n[7786, 27470, 41967, 7844, 8154]\\n['Greek', '1570s', 'living together', 'the evolution of all eukaryotes', 'Persian and Sanskrit']\\n\""
      ]
     },
     "execution_count": 28,
     "metadata": {},
     "output_type": "execute_result"
    }
   ],
   "source": [
    "# TODO: 编写几个测试用例，并输出结果\n",
    "print (top5results(\"when did Beyonce start becoming popular\"))\n",
    "print (top5results(\"what languge does the word of 'symbiosis' come from\"))\n",
    " \n",
    "\"\"\"\n",
    "结果：\n",
    "[0, 39267, 60835, 23136, 62423]\n",
    "['in the late 1990s', 'Particularly since the 1950s, pro wrestling events have frequently been responsible for sellout crowds at large arenas', 'mandolin-based guitar programs', 'early DJs creating music in their own homes', 'Iwasaki Yatarō']\n",
    "[7786, 27470, 41967, 7844, 8154]\n",
    "['Greek', '1570s', 'living together', 'the evolution of all eukaryotes', 'Persian and Sanskrit']\n",
    "\"\"\""
   ]
  },
  {
   "cell_type": "code",
   "execution_count": 29,
   "metadata": {},
   "outputs": [],
   "source": [
    "# TODO: 基于倒排表的优化。在这里，我们可以定义一个类似于hash_map, 比如 inverted_index = {}， 然后存放包含每一个关键词的文档出现在了什么位置，\n",
    "#       也就是，通过关键词的搜索首先来判断包含这些关键词的文档（比如出现至少一个），然后对于candidates问题做相似度比较。\n",
    "# \n",
    "from functools import reduce\n",
    " \n",
    "inverted_idx = {}  # 定一个一个简单的倒排表\n",
    "for i in range(len(new_qlist)):\n",
    "    for word in new_qlist[i].split():\n",
    "        if word not in inverted_idx:\n",
    "            inverted_idx[word] = [i]\n",
    "        else:\n",
    "            inverted_idx[word].append(i)\n",
    "for k in inverted_idx:\n",
    "    inverted_idx[k] = sorted(inverted_idx[k])\n",
    " \n",
    "# 求两个set的交集\n",
    "def intersections(set1, set2):\n",
    "    return set1.intersection(set2)\n",
    " \n",
    "def top5results_invidx(input_q):\n",
    "    \"\"\"\n",
    "    给定用户输入的问题 input_q, 返回最有可能的TOP 5问题。这里面需要做到以下几点：\n",
    "    1. 利用倒排表来筛选 candidate\n",
    "    2. 对于用户的输入 input_q 首先做一系列的预处理，然后再转换成tf-idf向量（利用上面的vectorizer)\n",
    "    3. 计算跟每个库里的问题之间的相似度\n",
    "    4. 找出相似度最高的top5问题的答案\n",
    "    \"\"\"\n",
    "    # 问题预处理\n",
    "    pattern = re.compile('[{}]'.format(re.escape(string.punctuation)))\n",
    "    sentence = pattern.sub(\"\", input_q)\n",
    "    sentence = sentence.lower()\n",
    "    words = sentence.split()\n",
    "    result = []\n",
    "    for word in words:\n",
    "        if word not in stopwords:\n",
    "            word = \"#number\" if word.isdigit() else word\n",
    "            w = stemmer.stem(word)\n",
    "            result.append(w)\n",
    "    \n",
    "    # 根据倒排表筛选出候选问题索引\n",
    "    candidates = []\n",
    "    for word in result:\n",
    "        if word in inverted_idx:\n",
    "            ids = inverted_idx[word]\n",
    "            candidates.append(set(ids))\n",
    "    candidate_idx = list(reduce(intersections, candidates))  # 候选问题索引\n",
    "    #print(candidate_idx)\n",
    "    \n",
    "    input_seg = ' '.join(result)\n",
    "    input_vec = vectorizer.transform([input_seg])\n",
    "    \n",
    "    # 与每个候选问题计算相似度\n",
    "    res = []\n",
    "    for i in candidate_idx:\n",
    "        score = cosine_similarity(input_vec,X[i])[0]\n",
    "        res.append((i,score[0]))\n",
    "    res_sorted = sorted(res,key=lambda k:k[1],reverse=True)\n",
    "    #print(res_sorted)\n",
    "    \n",
    "    # 根据索引检索top 5答案\n",
    "    answers = []\n",
    "    i = 0\n",
    "    for (idx,score) in res_sorted:\n",
    "        if i < 5:\n",
    "            answer = alist[idx]\n",
    "            answers.append(answer)\n",
    "        i += 1\n",
    "    \n",
    "    return answers"
   ]
  },
  {
   "cell_type": "code",
   "execution_count": 30,
   "metadata": {},
   "outputs": [
    {
     "name": "stdout",
     "output_type": "stream",
     "text": [
      "['in the late 1990s']\n",
      "['Greek']\n"
     ]
    },
    {
     "data": {
      "text/plain": [
       "\"\\n结果：\\n['in the late 1990s']\\n['Greek']\\n\""
      ]
     },
     "execution_count": 30,
     "metadata": {},
     "output_type": "execute_result"
    }
   ],
   "source": [
    "# TODO: 编写几个测试用例，并输出结果\n",
    "print (top5results_invidx(\"when did Beyonce start becoming popular\"))\n",
    "print (top5results_invidx(\"what languge does the word of 'symbiosis' come from\"))\n",
    " \n",
    "\"\"\"\n",
    "结果：\n",
    "['in the late 1990s']\n",
    "['Greek']\n",
    "\"\"\""
   ]
  },
  {
   "cell_type": "code",
   "execution_count": 32,
   "metadata": {},
   "outputs": [
    {
     "name": "stdout",
     "output_type": "stream",
     "text": [
      "Finish load Glove\n"
     ]
    }
   ],
   "source": [
    "#加载glove词向量\n",
    "def loadGlove(path):\n",
    "    vocab = {}\n",
    "    embedding = []\n",
    "    vocab[\"UNK\"] = 0\n",
    "    embedding.append([0]*100)\n",
    "    file = open(path, 'r', encoding='utf8')\n",
    "    i = 1\n",
    "    for line in file:\n",
    "        row = line.strip().split()\n",
    "        vocab[row[0]] = i\n",
    "        embedding.append(row[1:])\n",
    "        i += 1\n",
    "    print(\"Finish load Glove\")\n",
    "    file.close()\n",
    "    return vocab, embedding\n",
    " \n",
    "# 转换为词向量\n",
    "def word_to_vec(words, vocab, emb):\n",
    "    vec = []\n",
    "    \n",
    "    for word in words:\n",
    "        if word in vocab:\n",
    "            idx = vocab[word]\n",
    "            vec.append(emb[idx])\n",
    "        else:\n",
    "            idx = 0\n",
    "            vec.append(emb[idx])\n",
    "    return vec\n",
    " \n",
    "path = '/Users/v_wangbo35/Desktop/cc/glove.6B.100d.txt'\n",
    "# TODO\n",
    "vocabs,emb = loadGlove(path)# 读取每一个单词的嵌入。这个是 D*H的矩阵，这里的D是词典库的大小， H是词向量的大小。 这里面我们给定的每个单词的词向量，那句子向量怎么表达？\n",
    "      # 其中，最简单的方式 句子向量 = 词向量的平均（出现在问句里的）， 如果给定的词没有出现在词典库里，则忽略掉这个词。\n",
    " \n",
    "def top5results_emb(input_q):\n",
    "    \"\"\"\n",
    "    给定用户输入的问题 input_q, 返回最有可能的TOP 5问题。这里面需要做到以下几点：\n",
    "    1. 利用倒排表来筛选 candidate\n",
    "    2. 对于用户的输入 input_q，转换成句子向量\n",
    "    3. 计算跟每个库里的问题之间的相似度\n",
    "    4. 找出相似度最高的top5问题的答案\n",
    "    \"\"\"\n",
    "    # 问题预处理\n",
    "    pattern = re.compile('[{}]'.format(re.escape(string.punctuation)))\n",
    "    sentence = pattern.sub(\"\", input_q)\n",
    "    sentence = sentence.lower()\n",
    "    words = sentence.split()\n",
    "    result = []\n",
    "    for word in words:\n",
    "        if word not in stopwords:\n",
    "            word = \"#number\" if word.isdigit() else word\n",
    "            w = stemmer.stem(word)\n",
    "            result.append(w)\n",
    "    # 输入问题的词向量\n",
    "    input_q_vec = word_to_vec(result, vocabs,emb)\n",
    "    \n",
    "    # 根据倒排表筛选出候选问题索引\n",
    "    candidates = []\n",
    "    for word in result:\n",
    "        if word in inverted_idx:\n",
    "            ids = inverted_idx[word]\n",
    "            candidates.append(set(ids))\n",
    "    candidate_idx = list(reduce(intersections, candidates))  # 候选问题索引\n",
    "    \n",
    "    # 计算相似度得分\n",
    "    scores = []\n",
    "    for i in candidate_idx:\n",
    "        sentence = new_qlist[i].split()\n",
    "        vec = word_to_vec(sentence, vocabs, emb)\n",
    "        score = cosine_similarity(input_q_vec, vec)[0]\n",
    "        scores.append((i, score[0]))\n",
    "    scores_sorted = sorted(scores, key=lambda k:k[1], reverse=True)\n",
    "    \n",
    "    # 根据索引检索top 5答案\n",
    "    answers = []\n",
    "    i = 0\n",
    "    for (idx,score) in scores_sorted:\n",
    "        if i < 5:\n",
    "            answer = alist[idx]\n",
    "            answers.append(answer)\n",
    "        i += 1\n",
    "    \n",
    "    return answers"
   ]
  },
  {
   "cell_type": "code",
   "execution_count": 33,
   "metadata": {},
   "outputs": [
    {
     "name": "stdout",
     "output_type": "stream",
     "text": [
      "['in the late 1990s']\n",
      "['Greek']\n"
     ]
    },
    {
     "data": {
      "text/plain": [
       "\"\\n结果：\\n['in the late 1990s']\\n['cross', 'the name of a pre-Islamic (before the seventh century A.D.) tribe', 'of Arabic origin', 'slahta', 'Gothia']\\n\""
      ]
     },
     "execution_count": 33,
     "metadata": {},
     "output_type": "execute_result"
    }
   ],
   "source": [
    "# TODO: 编写几个测试用例，并输出结果\n",
    "print (top5results_emb(\"when did Beyonce start becoming popular\"))\n",
    "print (top5results_emb(\"what languge does the word of 'symbiosis' come from\"))\n",
    " \n",
    "\"\"\"\n",
    "结果：\n",
    "['in the late 1990s']\n",
    "['cross', 'the name of a pre-Islamic (before the seventh century A.D.) tribe', 'of Arabic origin', 'slahta', 'Gothia']\n",
    "\"\"\""
   ]
  }
 ],
 "metadata": {
  "kernelspec": {
   "display_name": "Python 3",
   "language": "python",
   "name": "python3"
  },
  "language_info": {
   "codemirror_mode": {
    "name": "ipython",
    "version": 3
   },
   "file_extension": ".py",
   "mimetype": "text/x-python",
   "name": "python",
   "nbconvert_exporter": "python",
   "pygments_lexer": "ipython3",
   "version": "3.11.4"
  },
  "orig_nbformat": 4
 },
 "nbformat": 4,
 "nbformat_minor": 2
}
